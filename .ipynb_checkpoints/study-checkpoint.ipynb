{
 "cells": [
  {
   "cell_type": "markdown",
   "id": "02ad3d90-a158-4354-a8f4-dd833d5dd3b7",
   "metadata": {},
   "source": [
    "## now starting my code for chat ai \n",
    "## references for the project \n",
    "- https://www.youtube.com/watch?v=a040VmmO-AY&t=2s\n",
    "##### thanks for explain ;)"
   ]
  },
  {
   "cell_type": "code",
   "execution_count": 21,
   "id": "854df821-9add-4f64-af9d-778e56025f0e",
   "metadata": {},
   "outputs": [],
   "source": [
    "## starting with imports main packages\n",
    "import os \n",
    "import json # \n",
    "import numpy as np\n",
    "import random\n",
    "\n",
    "import nltk # for tokeization and limitization\n",
    "\n",
    "# torch stuff\n",
    "import torch\n",
    "import torch.nn as nn\n",
    "import torch.nn.functional as F\n",
    "import torch.optim as optim\n",
    "from torch.utils.data import DataLoader, TensorDataset"
   ]
  },
  {
   "cell_type": "code",
   "execution_count": 22,
   "id": "0df2dc02-41c8-4847-a1e0-6a177fdfca46",
   "metadata": {},
   "outputs": [],
   "source": [
    "# first time only for download some importent stuf for nltk\n",
    "# nltk.download('punkt_tab')\n",
    "# nltk.download('omw-1.4')  # Optional but recommended\n",
    "# nltk.download('wordnet')"
   ]
  },
  {
   "cell_type": "code",
   "execution_count": 23,
   "id": "615f2a17-4ae1-423c-9a50-6438b4caaaed",
   "metadata": {},
   "outputs": [],
   "source": [
    "class ChatbotModel(nn.Module):\n",
    "\n",
    "    def __init__(self, input_size, output_size):\n",
    "        super(ChatbotModel, self).__init__()\n",
    "\n",
    "        self.fc1 = nn.Linear(input_size, 128)\n",
    "        self.fc2 = nn.Linear(128, 64)\n",
    "        self.fc3 = nn.Linear(64, output_size)\n",
    "        self.relu = nn.ReLU()\n",
    "        self.dropout = nn.Dropout(0.5)\n",
    "    def forward(self, x):\n",
    "        x = self.relu(self.fc1(x))\n",
    "        x = self.dropout(x)\n",
    "        x = self.relu(self.fc2(x))\n",
    "        x = self.dropout(x)\n",
    "        x = self.relu(self.fc3(x))\n",
    "\n",
    "        return x\n"
   ]
  },
  {
   "cell_type": "markdown",
   "id": "02e13841-bcae-498c-b24d-33fb9892cf57",
   "metadata": {},
   "source": [
    "## starting the main class for chatbotassistant"
   ]
  },
  {
   "cell_type": "code",
   "execution_count": null,
   "id": "03affbdc-de74-4b3c-9e83-fce18f363cfd",
   "metadata": {},
   "outputs": [],
   "source": [
    "class ChatbotAssistant:\n",
    "    def __init__(self, intents_path, function_mapping=None):\n",
    "        self.model = None\n",
    "        self.intents_path = intents_path\n",
    "        self.documents = []\n",
    "        self.vocabulary = []\n",
    "        self.intents = []\n",
    "        self.intents_response = []\n",
    "        self.function_mapping = function_mapping\n",
    "\n",
    "        self.X = None\n",
    "        self.y = None\n",
    "        "
   ]
  }
 ],
 "metadata": {
  "kernelspec": {
   "display_name": "Python 3 (ipykernel)",
   "language": "python",
   "name": "python3"
  },
  "language_info": {
   "codemirror_mode": {
    "name": "ipython",
    "version": 3
   },
   "file_extension": ".py",
   "mimetype": "text/x-python",
   "name": "python",
   "nbconvert_exporter": "python",
   "pygments_lexer": "ipython3",
   "version": "3.10.12"
  }
 },
 "nbformat": 4,
 "nbformat_minor": 5
}
