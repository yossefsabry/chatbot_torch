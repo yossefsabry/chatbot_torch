{
 "cells": [
  {
   "cell_type": "markdown",
   "id": "02ad3d90-a158-4354-a8f4-dd833d5dd3b7",
   "metadata": {},
   "source": [
    "## now starting my code for chat ai \n",
    "## references for the project \n",
    "- https://www.youtube.com/watch?v=a040VmmO-AY&t=2s\n",
    "##### thanks for explain ;)"
   ]
  },
  {
   "cell_type": "code",
   "execution_count": 1,
   "id": "854df821-9add-4f64-af9d-778e56025f0e",
   "metadata": {},
   "outputs": [],
   "source": [
    "## starting with imports main packages\n",
    "import os \n",
    "import json # \n",
    "import numpy as np\n",
    "import random\n",
    "\n",
    "import nltk # for tokeization and limitization\n",
    "\n",
    "# torch stuff\n",
    "import torch\n",
    "import torch.nn as nn\n",
    "import torch.nn.functional as F\n",
    "import torch.optim as optim\n",
    "from torch.utils.data import DataLoader, TensorDataset"
   ]
  },
  {
   "cell_type": "code",
   "execution_count": 2,
   "id": "0df2dc02-41c8-4847-a1e0-6a177fdfca46",
   "metadata": {},
   "outputs": [
    {
     "name": "stderr",
     "output_type": "stream",
     "text": [
      "[nltk_data] Downloading package punkt_tab to /home/yossef/nltk_data...\n",
      "[nltk_data]   Unzipping tokenizers/punkt_tab.zip.\n",
      "[nltk_data] Downloading package omw-1.4 to /home/yossef/nltk_data...\n",
      "[nltk_data] Downloading package wordnet to /home/yossef/nltk_data...\n"
     ]
    },
    {
     "data": {
      "text/plain": [
       "True"
      ]
     },
     "execution_count": 2,
     "metadata": {},
     "output_type": "execute_result"
    }
   ],
   "source": [
    "# first time only for download some importent stuf for nltk\n",
    "nltk.download('punkt_tab')\n",
    "nltk.download('omw-1.4')  # Optional but recommended\n",
    "nltk.download('wordnet')"
   ]
  },
  {
   "cell_type": "code",
   "execution_count": 3,
   "id": "615f2a17-4ae1-423c-9a50-6438b4caaaed",
   "metadata": {},
   "outputs": [],
   "source": [
    "class ChatbotModel(nn.Module):\n",
    "\n",
    "    def __init__(self, input_size, output_size):\n",
    "        super(ChatbotModel, self).__init__()\n",
    "\n",
    "        self.fc1 = nn.Linear(input_size, 128)\n",
    "        self.fc2 = nn.Linear(128, 64)\n",
    "        self.fc3 = nn.Linear(64, output_size)\n",
    "        self.relu = nn.ReLU()\n",
    "        self.dropout = nn.Dropout(0.5)\n",
    "    def forward(self, x):\n",
    "        x = self.relu(self.fc1(x))\n",
    "        x = self.dropout(x)\n",
    "        x = self.relu(self.fc2(x))\n",
    "        x = self.dropout(x)\n",
    "        x = self.relu(self.fc3(x))\n",
    "\n",
    "        return x\n"
   ]
  },
  {
   "cell_type": "markdown",
   "id": "02e13841-bcae-498c-b24d-33fb9892cf57",
   "metadata": {},
   "source": [
    "## starting the main class for chatbotassistant"
   ]
  },
  {
   "cell_type": "code",
   "execution_count": 4,
   "id": "a2d96b9a-be7b-4b95-8e7b-7f891edcb08c",
   "metadata": {},
   "outputs": [],
   "source": [
    "class ChatbotAssistant:\n",
    "\n",
    "    def __init__(self, intents_path, function_mappings = None):\n",
    "        self.model = None\n",
    "        self.intents_path = intents_path\n",
    "\n",
    "        self.documents = []\n",
    "        self.vocabulary = []\n",
    "        self.intents = []\n",
    "        self.intents_responses = {}\n",
    "\n",
    "        self.function_mappings = function_mappings\n",
    "\n",
    "        self.X = None\n",
    "        self.y = None\n",
    "\n",
    "    @staticmethod\n",
    "    def tokenize_and_lemmatize(text):\n",
    "        lemmatizer = nltk.WordNetLemmatizer()\n",
    "\n",
    "        words = nltk.word_tokenize(text)\n",
    "        words = [lemmatizer.lemmatize(word.lower()) for word in words]\n",
    "\n",
    "        return words\n",
    "\n",
    "    def bag_of_words(self, words):\n",
    "        return [1 if word in words else 0 for word in self.vocabulary]\n",
    "\n",
    "    def parse_intents(self):\n",
    "        lemmatizer = nltk.WordNetLemmatizer()\n",
    "\n",
    "        if os.path.exists(self.intents_path):\n",
    "            with open(self.intents_path, 'r') as f:\n",
    "                intents_data = json.load(f)\n",
    "\n",
    "            for intent in intents_data['intents']:\n",
    "                if intent['tag'] not in self.intents:\n",
    "                    self.intents.append(intent['tag'])\n",
    "                    self.intents_responses[intent['tag']] = intent['responses']\n",
    "\n",
    "                for pattern in intent['patterns']:\n",
    "                    pattern_words = self.tokenize_and_lemmatize(pattern)\n",
    "                    self.vocabulary.extend(pattern_words)\n",
    "                    self.documents.append((pattern_words, intent['tag']))\n",
    "\n",
    "                self.vocabulary = sorted(set(self.vocabulary))\n",
    "\n",
    "    def prepare_data(self):\n",
    "        bags = []\n",
    "        indices = []\n",
    "\n",
    "        for document in self.documents:\n",
    "            words = document[0]\n",
    "            bag = self.bag_of_words(words)\n",
    "\n",
    "            intent_index = self.intents.index(document[1])\n",
    "\n",
    "            bags.append(bag)\n",
    "            indices.append(intent_index)\n",
    "\n",
    "        self.X = np.array(bags)\n",
    "        self.y = np.array(indices)\n",
    "\n",
    "    def train_model(self, batch_size, lr, epochs):\n",
    "        X_tensor = torch.tensor(self.X, dtype=torch.float32)\n",
    "        y_tensor = torch.tensor(self.y, dtype=torch.long)\n",
    "\n",
    "        dataset = TensorDataset(X_tensor, y_tensor)\n",
    "        loader = DataLoader(dataset, batch_size=batch_size, shuffle=True)\n",
    "\n",
    "        self.model = ChatbotModel(self.X.shape[1], len(self.intents)) \n",
    "\n",
    "        criterion = nn.CrossEntropyLoss()\n",
    "        optimizer = optim.Adam(self.model.parameters(), lr=lr)\n",
    "\n",
    "        for epoch in range(epochs):\n",
    "            running_loss = 0.0\n",
    "\n",
    "            for batch_X, batch_y in loader:\n",
    "                optimizer.zero_grad()\n",
    "                outputs = self.model(batch_X)\n",
    "                loss = criterion(outputs, batch_y)\n",
    "                loss.backward()\n",
    "                optimizer.step()\n",
    "                running_loss += loss\n",
    "            \n",
    "            print(f\"Epoch {epoch+1}: Loss: {running_loss / len(loader):.4f}\")\n",
    "\n",
    "    def save_model(self, model_path, dimensions_path):\n",
    "        torch.save(self.model.state_dict(), model_path)\n",
    "\n",
    "        with open(dimensions_path, 'w') as f:\n",
    "            json.dump({ 'input_size': self.X.shape[1], 'output_size': len(self.intents) }, f)\n",
    "\n",
    "    def load_model(self, model_path, dimensions_path):\n",
    "        with open(dimensions_path, 'r') as f:\n",
    "            dimensions = json.load(f)\n",
    "\n",
    "        self.model = ChatbotModel(dimensions['input_size'], dimensions['output_size'])\n",
    "        self.model.load_state_dict(torch.load(model_path, weights_only=True))\n",
    "\n",
    "    def process_message(self, input_message):\n",
    "        words = self.tokenize_and_lemmatize(input_message)\n",
    "        bag = self.bag_of_words(words)\n",
    "\n",
    "        bag_tensor = torch.tensor([bag], dtype=torch.float32)\n",
    "\n",
    "        self.model.eval()\n",
    "        with torch.no_grad():\n",
    "            predictions = self.model(bag_tensor)\n",
    "\n",
    "        predicted_class_index = torch.argmax(predictions, dim=1).item()\n",
    "        predicted_intent = self.intents[predicted_class_index]\n",
    "\n",
    "        if self.function_mappings:\n",
    "            if predicted_intent in self.function_mappings:\n",
    "                self.function_mappings[predicted_intent]()\n",
    "\n",
    "        if self.intents_responses[predicted_intent]:\n",
    "            return random.choice(self.intents_responses[predicted_intent])\n",
    "        else:\n",
    "            return None\n",
    "\n"
   ]
  },
  {
   "cell_type": "code",
   "execution_count": 5,
   "id": "99a38a69-cd80-40e5-ad10-ea03057ee445",
   "metadata": {},
   "outputs": [],
   "source": [
    "\n",
    "def get_stocks():\n",
    "    stocks = ['APPL', 'META', 'NVDA', 'GS', 'MSFT']\n",
    "\n",
    "    print(random.sample(stocks, 3))\n",
    "\n"
   ]
  },
  {
   "cell_type": "code",
   "execution_count": 8,
   "id": "169134da-d9f4-4972-9110-4b9e67b066f2",
   "metadata": {},
   "outputs": [
    {
     "ename": "FileNotFoundError",
     "evalue": "[Errno 2] No such file or directory: 'dimensions.json'",
     "output_type": "error",
     "traceback": [
      "\u001b[0;31m---------------------------------------------------------------------------\u001b[0m",
      "\u001b[0;31mFileNotFoundError\u001b[0m                         Traceback (most recent call last)",
      "Cell \u001b[0;32mIn[8], line 3\u001b[0m\n\u001b[1;32m      1\u001b[0m assistant \u001b[38;5;241m=\u001b[39m ChatbotAssistant(\u001b[38;5;124m'\u001b[39m\u001b[38;5;124mintents.json\u001b[39m\u001b[38;5;124m'\u001b[39m, function_mappings \u001b[38;5;241m=\u001b[39m {\u001b[38;5;124m'\u001b[39m\u001b[38;5;124mstocks\u001b[39m\u001b[38;5;124m'\u001b[39m: get_stocks})\n\u001b[1;32m      2\u001b[0m assistant\u001b[38;5;241m.\u001b[39mparse_intents()\n\u001b[0;32m----> 3\u001b[0m \u001b[43massistant\u001b[49m\u001b[38;5;241;43m.\u001b[39;49m\u001b[43mload_model\u001b[49m\u001b[43m(\u001b[49m\u001b[38;5;124;43m'\u001b[39;49m\u001b[38;5;124;43mchatbot_model.pth\u001b[39;49m\u001b[38;5;124;43m'\u001b[39;49m\u001b[43m,\u001b[49m\u001b[43m \u001b[49m\u001b[38;5;124;43m'\u001b[39;49m\u001b[38;5;124;43mdimensions.json\u001b[39;49m\u001b[38;5;124;43m'\u001b[39;49m\u001b[43m)\u001b[49m\n\u001b[1;32m      5\u001b[0m \u001b[38;5;28;01mwhile\u001b[39;00m \u001b[38;5;28;01mTrue\u001b[39;00m:\n\u001b[1;32m      6\u001b[0m     message \u001b[38;5;241m=\u001b[39m \u001b[38;5;28minput\u001b[39m(\u001b[38;5;124m'\u001b[39m\u001b[38;5;124mEnter your message:\u001b[39m\u001b[38;5;124m'\u001b[39m)\n",
      "Cell \u001b[0;32mIn[4], line 96\u001b[0m, in \u001b[0;36mChatbotAssistant.load_model\u001b[0;34m(self, model_path, dimensions_path)\u001b[0m\n\u001b[1;32m     95\u001b[0m \u001b[38;5;28;01mdef\u001b[39;00m\u001b[38;5;250m \u001b[39m\u001b[38;5;21mload_model\u001b[39m(\u001b[38;5;28mself\u001b[39m, model_path, dimensions_path):\n\u001b[0;32m---> 96\u001b[0m     \u001b[38;5;28;01mwith\u001b[39;00m \u001b[38;5;28;43mopen\u001b[39;49m\u001b[43m(\u001b[49m\u001b[43mdimensions_path\u001b[49m\u001b[43m,\u001b[49m\u001b[43m \u001b[49m\u001b[38;5;124;43m'\u001b[39;49m\u001b[38;5;124;43mr\u001b[39;49m\u001b[38;5;124;43m'\u001b[39;49m\u001b[43m)\u001b[49m \u001b[38;5;28;01mas\u001b[39;00m f:\n\u001b[1;32m     97\u001b[0m         dimensions \u001b[38;5;241m=\u001b[39m json\u001b[38;5;241m.\u001b[39mload(f)\n\u001b[1;32m     99\u001b[0m     \u001b[38;5;28mself\u001b[39m\u001b[38;5;241m.\u001b[39mmodel \u001b[38;5;241m=\u001b[39m ChatbotModel(dimensions[\u001b[38;5;124m'\u001b[39m\u001b[38;5;124minput_size\u001b[39m\u001b[38;5;124m'\u001b[39m], dimensions[\u001b[38;5;124m'\u001b[39m\u001b[38;5;124moutput_size\u001b[39m\u001b[38;5;124m'\u001b[39m])\n",
      "File \u001b[0;32m~/personal/chatbot_torch/.venv/lib/python3.10/site-packages/IPython/core/interactiveshell.py:324\u001b[0m, in \u001b[0;36m_modified_open\u001b[0;34m(file, *args, **kwargs)\u001b[0m\n\u001b[1;32m    317\u001b[0m \u001b[38;5;28;01mif\u001b[39;00m file \u001b[38;5;129;01min\u001b[39;00m {\u001b[38;5;241m0\u001b[39m, \u001b[38;5;241m1\u001b[39m, \u001b[38;5;241m2\u001b[39m}:\n\u001b[1;32m    318\u001b[0m     \u001b[38;5;28;01mraise\u001b[39;00m \u001b[38;5;167;01mValueError\u001b[39;00m(\n\u001b[1;32m    319\u001b[0m         \u001b[38;5;124mf\u001b[39m\u001b[38;5;124m\"\u001b[39m\u001b[38;5;124mIPython won\u001b[39m\u001b[38;5;124m'\u001b[39m\u001b[38;5;124mt let you open fd=\u001b[39m\u001b[38;5;132;01m{\u001b[39;00mfile\u001b[38;5;132;01m}\u001b[39;00m\u001b[38;5;124m by default \u001b[39m\u001b[38;5;124m\"\u001b[39m\n\u001b[1;32m    320\u001b[0m         \u001b[38;5;124m\"\u001b[39m\u001b[38;5;124mas it is likely to crash IPython. If you know what you are doing, \u001b[39m\u001b[38;5;124m\"\u001b[39m\n\u001b[1;32m    321\u001b[0m         \u001b[38;5;124m\"\u001b[39m\u001b[38;5;124myou can use builtins\u001b[39m\u001b[38;5;124m'\u001b[39m\u001b[38;5;124m open.\u001b[39m\u001b[38;5;124m\"\u001b[39m\n\u001b[1;32m    322\u001b[0m     )\n\u001b[0;32m--> 324\u001b[0m \u001b[38;5;28;01mreturn\u001b[39;00m \u001b[43mio_open\u001b[49m\u001b[43m(\u001b[49m\u001b[43mfile\u001b[49m\u001b[43m,\u001b[49m\u001b[43m \u001b[49m\u001b[38;5;241;43m*\u001b[39;49m\u001b[43margs\u001b[49m\u001b[43m,\u001b[49m\u001b[43m \u001b[49m\u001b[38;5;241;43m*\u001b[39;49m\u001b[38;5;241;43m*\u001b[39;49m\u001b[43mkwargs\u001b[49m\u001b[43m)\u001b[49m\n",
      "\u001b[0;31mFileNotFoundError\u001b[0m: [Errno 2] No such file or directory: 'dimensions.json'"
     ]
    }
   ],
   "source": [
    "assistant = ChatbotAssistant('intents.json', function_mappings = {'stocks': get_stocks})\n",
    "assistant.parse_intents()\n",
    "assistant.load_model('chatbot_model.pth', 'dimensions.json')\n",
    "\n",
    "while True:\n",
    "    message = input('Enter your message:')\n",
    "\n",
    "    if message == '/quit':\n",
    "        break\n",
    "\n",
    "    print(assistant.process_message(message))\n"
   ]
  },
  {
   "cell_type": "code",
   "execution_count": null,
   "id": "fb267ec1-f951-43f7-922b-f41f5051ba26",
   "metadata": {},
   "outputs": [],
   "source": []
  },
  {
   "cell_type": "code",
   "execution_count": null,
   "id": "8b7f716e-02b7-4726-9de0-23e66bba8749",
   "metadata": {},
   "outputs": [],
   "source": []
  },
  {
   "cell_type": "code",
   "execution_count": null,
   "id": "d8607a98-3495-4911-938e-8462ad2b31aa",
   "metadata": {},
   "outputs": [],
   "source": []
  }
 ],
 "metadata": {
  "kernelspec": {
   "display_name": "Python 3 (ipykernel)",
   "language": "python",
   "name": "python3"
  },
  "language_info": {
   "codemirror_mode": {
    "name": "ipython",
    "version": 3
   },
   "file_extension": ".py",
   "mimetype": "text/x-python",
   "name": "python",
   "nbconvert_exporter": "python",
   "pygments_lexer": "ipython3",
   "version": "3.10.17"
  }
 },
 "nbformat": 4,
 "nbformat_minor": 5
}
