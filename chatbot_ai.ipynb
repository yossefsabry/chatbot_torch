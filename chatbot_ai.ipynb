{
 "cells": [
  {
   "cell_type": "markdown",
   "id": "6706b7ad-e79b-425b-93bc-c0439117e635",
   "metadata": {},
   "source": [
    "# full code for chatbot "
   ]
  },
  {
   "cell_type": "code",
   "execution_count": 1,
   "id": "bcbe5e3b-2d97-401b-982b-d8937056aa21",
   "metadata": {},
   "outputs": [],
   "source": [
    "import os\n",
    "import json\n",
    "import random\n",
    "\n",
    "import nltk\n",
    "import numpy as np\n",
    "\n",
    "import torch\n",
    "import torch.nn as nn\n",
    "import torch.nn.functional as F\n",
    "import torch.optim as optim\n",
    "from torch.utils.data import DataLoader, TensorDataset "
   ]
  },
  {
   "cell_type": "code",
   "execution_count": 2,
   "id": "3407a191-48b9-4871-91d2-046d7c4b60bc",
   "metadata": {},
   "outputs": [
    {
     "name": "stderr",
     "output_type": "stream",
     "text": [
      "[nltk_data] Downloading package omw-1.4 to /home/yossef/nltk_data...\n",
      "[nltk_data]   Package omw-1.4 is already up-to-date!\n",
      "[nltk_data] Downloading package wordnet to /home/yossef/nltk_data...\n",
      "[nltk_data]   Package wordnet is already up-to-date!\n",
      "[nltk_data] Downloading package punkt_tab to /home/yossef/nltk_data...\n",
      "[nltk_data]   Package punkt_tab is already up-to-date!\n"
     ]
    },
    {
     "data": {
      "text/plain": [
       "True"
      ]
     },
     "execution_count": 2,
     "metadata": {},
     "output_type": "execute_result"
    }
   ],
   "source": [
    "\n",
    "nltk.download('omw-1.4')  # Optional but recommended\n",
    "nltk.download('wordnet')\n",
    "nltk.download('punkt_tab')\n"
   ]
  },
  {
   "cell_type": "code",
   "execution_count": 5,
   "id": "3eed878f-e189-4878-9aa8-249fa1e38362",
   "metadata": {},
   "outputs": [
    {
     "name": "stdout",
     "output_type": "stream",
     "text": [
      "Epoch 1: Loss: 1.6194\n",
      "Epoch 2: Loss: 1.6121\n",
      "Epoch 3: Loss: 1.5940\n",
      "Epoch 4: Loss: 1.6039\n",
      "Epoch 5: Loss: 1.5893\n",
      "Epoch 6: Loss: 1.5875\n",
      "Epoch 7: Loss: 1.5592\n",
      "Epoch 8: Loss: 1.5512\n",
      "Epoch 9: Loss: 1.5639\n",
      "Epoch 10: Loss: 1.5346\n",
      "Epoch 11: Loss: 1.5351\n",
      "Epoch 12: Loss: 1.5356\n",
      "Epoch 13: Loss: 1.4748\n",
      "Epoch 14: Loss: 1.4851\n",
      "Epoch 15: Loss: 1.4620\n",
      "Epoch 16: Loss: 1.4416\n",
      "Epoch 17: Loss: 1.3849\n",
      "Epoch 18: Loss: 1.3657\n",
      "Epoch 19: Loss: 1.3312\n",
      "Epoch 20: Loss: 1.2917\n",
      "Epoch 21: Loss: 1.2987\n",
      "Epoch 22: Loss: 1.2567\n",
      "Epoch 23: Loss: 1.2107\n",
      "Epoch 24: Loss: 1.2185\n",
      "Epoch 25: Loss: 1.1381\n",
      "Epoch 26: Loss: 1.1081\n",
      "Epoch 27: Loss: 1.0191\n",
      "Epoch 28: Loss: 0.9394\n",
      "Epoch 29: Loss: 0.9135\n",
      "Epoch 30: Loss: 0.9489\n",
      "Epoch 31: Loss: 0.8575\n",
      "Epoch 32: Loss: 0.7856\n",
      "Epoch 33: Loss: 0.7742\n",
      "Epoch 34: Loss: 0.6754\n",
      "Epoch 35: Loss: 0.6927\n",
      "Epoch 36: Loss: 0.6577\n",
      "Epoch 37: Loss: 0.6032\n",
      "Epoch 38: Loss: 0.6079\n",
      "Epoch 39: Loss: 0.5657\n",
      "Epoch 40: Loss: 0.4815\n",
      "Epoch 41: Loss: 0.4222\n",
      "Epoch 42: Loss: 0.4803\n",
      "Epoch 43: Loss: 0.3677\n",
      "Epoch 44: Loss: 0.4043\n",
      "Epoch 45: Loss: 0.2791\n",
      "Epoch 46: Loss: 0.2849\n",
      "Epoch 47: Loss: 0.2904\n",
      "Epoch 48: Loss: 0.2992\n",
      "Epoch 49: Loss: 0.2962\n",
      "Epoch 50: Loss: 0.2445\n",
      "Epoch 51: Loss: 0.2194\n",
      "Epoch 52: Loss: 0.2689\n",
      "Epoch 53: Loss: 0.3396\n",
      "Epoch 54: Loss: 0.3390\n",
      "Epoch 55: Loss: 0.2288\n",
      "Epoch 56: Loss: 0.1558\n",
      "Epoch 57: Loss: 0.1701\n",
      "Epoch 58: Loss: 0.1710\n",
      "Epoch 59: Loss: 0.1171\n",
      "Epoch 60: Loss: 0.1499\n",
      "Epoch 61: Loss: 0.2420\n",
      "Epoch 62: Loss: 0.1110\n",
      "Epoch 63: Loss: 0.1463\n",
      "Epoch 64: Loss: 0.1322\n",
      "Epoch 65: Loss: 0.1768\n",
      "Epoch 66: Loss: 0.0833\n",
      "Epoch 67: Loss: 0.1207\n",
      "Epoch 68: Loss: 0.0920\n",
      "Epoch 69: Loss: 0.1220\n",
      "Epoch 70: Loss: 0.1001\n",
      "Epoch 71: Loss: 0.0703\n",
      "Epoch 72: Loss: 0.0999\n",
      "Epoch 73: Loss: 0.1014\n",
      "Epoch 74: Loss: 0.0713\n",
      "Epoch 75: Loss: 0.1101\n",
      "Epoch 76: Loss: 0.0724\n",
      "Epoch 77: Loss: 0.0833\n",
      "Epoch 78: Loss: 0.0447\n",
      "Epoch 79: Loss: 0.0638\n",
      "Epoch 80: Loss: 0.0804\n",
      "Epoch 81: Loss: 0.0589\n",
      "Epoch 82: Loss: 0.0571\n",
      "Epoch 83: Loss: 0.0532\n",
      "Epoch 84: Loss: 0.0307\n",
      "Epoch 85: Loss: 0.0424\n",
      "Epoch 86: Loss: 0.0502\n",
      "Epoch 87: Loss: 0.0363\n",
      "Epoch 88: Loss: 0.1311\n",
      "Epoch 89: Loss: 0.0671\n",
      "Epoch 90: Loss: 0.0329\n",
      "Epoch 91: Loss: 0.0404\n",
      "Epoch 92: Loss: 0.0324\n",
      "Epoch 93: Loss: 0.0647\n",
      "Epoch 94: Loss: 0.0463\n",
      "Epoch 95: Loss: 0.0202\n",
      "Epoch 96: Loss: 0.0283\n",
      "Epoch 97: Loss: 0.0328\n",
      "Epoch 98: Loss: 0.0217\n",
      "Epoch 99: Loss: 0.0282\n",
      "Epoch 100: Loss: 0.0362\n"
     ]
    }
   ],
   "source": [
    "\n",
    "\n",
    "class ChatbotModel(nn.Module):\n",
    "\n",
    "    def __init__(self, input_size, output_size):\n",
    "        super(ChatbotModel, self).__init__()\n",
    "\n",
    "        self.fc1 = nn.Linear(input_size, 128)\n",
    "        self.fc2 = nn.Linear(128, 64)\n",
    "        self.fc3 = nn.Linear(64, output_size)\n",
    "        self.relu = nn.ReLU()\n",
    "        self.dropout = nn.Dropout(0.5)\n",
    "\n",
    "    def forward(self, x):\n",
    "        x = self.relu(self.fc1(x))\n",
    "        x = self.dropout(x)\n",
    "        x = self.relu(self.fc2(x))\n",
    "        x = self.dropout(x)\n",
    "        x = self.fc3(x)\n",
    "\n",
    "        return x\n",
    "\n",
    "\n",
    "class ChatbotAssistant:\n",
    "\n",
    "    def __init__(self, intents_path, function_mappings = None):\n",
    "        self.model = None\n",
    "        self.intents_path = intents_path\n",
    "\n",
    "        self.documents = []\n",
    "        self.vocabulary = []\n",
    "        self.intents = []\n",
    "        self.intents_responses = {}\n",
    "\n",
    "        self.function_mappings = function_mappings\n",
    "\n",
    "        self.X = None\n",
    "        self.y = None\n",
    "\n",
    "    @staticmethod\n",
    "    def tokenize_and_lemmatize(text):\n",
    "        lemmatizer = nltk.WordNetLemmatizer()\n",
    "\n",
    "        words = nltk.word_tokenize(text)\n",
    "        words = [lemmatizer.lemmatize(word.lower()) for word in words]\n",
    "\n",
    "        return words\n",
    "\n",
    "    def bag_of_words(self, words):\n",
    "        return [1 if word in words else 0 for word in self.vocabulary]\n",
    "\n",
    "    def parse_intents(self):\n",
    "        lemmatizer = nltk.WordNetLemmatizer()\n",
    "\n",
    "        if os.path.exists(self.intents_path):\n",
    "            with open(self.intents_path, 'r') as f:\n",
    "                intents_data = json.load(f)\n",
    "\n",
    "            for intent in intents_data['intents']:\n",
    "                if intent['tag'] not in self.intents:\n",
    "                    self.intents.append(intent['tag'])\n",
    "                    self.intents_responses[intent['tag']] = intent['responses']\n",
    "\n",
    "                for pattern in intent['patterns']:\n",
    "                    pattern_words = self.tokenize_and_lemmatize(pattern)\n",
    "                    self.vocabulary.extend(pattern_words)\n",
    "                    self.documents.append((pattern_words, intent['tag']))\n",
    "\n",
    "                self.vocabulary = sorted(set(self.vocabulary))\n",
    "\n",
    "    def prepare_data(self):\n",
    "        bags = []\n",
    "        indices = []\n",
    "\n",
    "        for document in self.documents:\n",
    "            words = document[0]\n",
    "            bag = self.bag_of_words(words)\n",
    "\n",
    "            intent_index = self.intents.index(document[1])\n",
    "\n",
    "            bags.append(bag)\n",
    "            indices.append(intent_index)\n",
    "\n",
    "        self.X = np.array(bags)\n",
    "        self.y = np.array(indices)\n",
    "\n",
    "    def train_model(self, batch_size, lr, epochs):\n",
    "        X_tensor = torch.tensor(self.X, dtype=torch.float32)\n",
    "        y_tensor = torch.tensor(self.y, dtype=torch.long)\n",
    "\n",
    "        dataset = TensorDataset(X_tensor, y_tensor)\n",
    "        loader = DataLoader(dataset, batch_size=batch_size, shuffle=True)\n",
    "\n",
    "        self.model = ChatbotModel(self.X.shape[1], len(self.intents)) \n",
    "\n",
    "        criterion = nn.CrossEntropyLoss()\n",
    "        optimizer = optim.Adam(self.model.parameters(), lr=lr)\n",
    "\n",
    "        for epoch in range(epochs):\n",
    "            running_loss = 0.0\n",
    "\n",
    "            for batch_X, batch_y in loader:\n",
    "                optimizer.zero_grad()\n",
    "                outputs = self.model(batch_X)\n",
    "                loss = criterion(outputs, batch_y)\n",
    "                loss.backward()\n",
    "                optimizer.step()\n",
    "                running_loss += loss\n",
    "            \n",
    "            print(f\"Epoch {epoch+1}: Loss: {running_loss / len(loader):.4f}\")\n",
    "\n",
    "    def save_model(self, model_path, dimensions_path):\n",
    "        torch.save(self.model.state_dict(), model_path)\n",
    "\n",
    "        with open(dimensions_path, 'w') as f:\n",
    "            json.dump({ 'input_size': self.X.shape[1], 'output_size': len(self.intents) }, f)\n",
    "\n",
    "    def load_model(self, model_path, dimensions_path):\n",
    "        with open(dimensions_path, 'r') as f:\n",
    "            dimensions = json.load(f)\n",
    "\n",
    "        self.model = ChatbotModel(dimensions['input_size'], dimensions['output_size'])\n",
    "        self.model.load_state_dict(torch.load(model_path, weights_only=True))\n",
    "\n",
    "    def process_message(self, input_message):\n",
    "        words = self.tokenize_and_lemmatize(input_message)\n",
    "        bag = self.bag_of_words(words)\n",
    "\n",
    "        bag_tensor = torch.tensor([bag], dtype=torch.float32)\n",
    "\n",
    "        self.model.eval()\n",
    "        with torch.no_grad():\n",
    "            predictions = self.model(bag_tensor)\n",
    "\n",
    "        predicted_class_index = torch.argmax(predictions, dim=1).item()\n",
    "        predicted_intent = self.intents[predicted_class_index]\n",
    "\n",
    "        if self.function_mappings:\n",
    "            if predicted_intent in self.function_mappings:\n",
    "                self.function_mappings[predicted_intent]()\n",
    "\n",
    "        if self.intents_responses[predicted_intent]:\n",
    "            return random.choice(self.intents_responses[predicted_intent])\n",
    "        else:\n",
    "            return None\n",
    "\n",
    "\n",
    "def get_stocks():\n",
    "    stocks = ['APPL', 'META', 'NVDA', 'GS', 'MSFT']\n",
    "\n",
    "    print(random.sample(stocks, 3))\n",
    "\n",
    "\n",
    "if __name__ == '__main__':\n",
    "    assistant = ChatbotAssistant('intents.json', function_mappings = {'stocks': get_stocks})\n",
    "    assistant.parse_intents()\n",
    "    assistant.prepare_data()\n",
    "    assistant.train_model(batch_size=8, lr=0.001, epochs=100)\n",
    "\n",
    "    assistant.save_model('chatbot_model.pth', 'dimensions.json')\n",
    "\n",
    "\n",
    "\n",
    "\n"
   ]
  },
  {
   "cell_type": "code",
   "execution_count": null,
   "id": "783beaa0-e093-440c-9288-68a1020a3e5d",
   "metadata": {},
   "outputs": [
    {
     "name": "stdin",
     "output_type": "stream",
     "text": [
      "Enter your message: what is my name\n"
     ]
    },
    {
     "name": "stdout",
     "output_type": "stream",
     "text": [
      "Programming, coding or software development, means writing computer code to automate tasks.\n"
     ]
    },
    {
     "name": "stdin",
     "output_type": "stream",
     "text": [
      "Enter your message: hi\n"
     ]
    },
    {
     "name": "stdout",
     "output_type": "stream",
     "text": [
      "Good to see you again!\n"
     ]
    },
    {
     "name": "stdin",
     "output_type": "stream",
     "text": [
      "Enter your message: how are you\n"
     ]
    },
    {
     "name": "stdout",
     "output_type": "stream",
     "text": [
      "Hi there, how can I help?\n"
     ]
    },
    {
     "name": "stdin",
     "output_type": "stream",
     "text": [
      "Enter your message: this nice i want to check for somehitng now\n"
     ]
    },
    {
     "name": "stdout",
     "output_type": "stream",
     "text": [
      "Sad to see you go :(\n"
     ]
    },
    {
     "name": "stdin",
     "output_type": "stream",
     "text": [
      "Enter your message: bya\n"
     ]
    },
    {
     "name": "stdout",
     "output_type": "stream",
     "text": [
      "Hello!\n"
     ]
    }
   ],
   "source": [
    "assistant = ChatbotAssistant('intents.json', function_mappings = {'stocks': get_stocks})\n",
    "assistant.parse_intents()\n",
    "assistant.load_model('chatbot_model.pth', 'dimensions.json')\n",
    "\n",
    "while True:\n",
    "    message = input('Enter your message:')\n",
    "\n",
    "    if message == '/quit':\n",
    "        break\n",
    "\n",
    "    print(assistant.process_message(message))"
   ]
  },
  {
   "cell_type": "code",
   "execution_count": null,
   "id": "b592048f-64d0-4f54-acc0-71322a3f9c92",
   "metadata": {},
   "outputs": [],
   "source": [
    "print(\"fooooooooooo\")"
   ]
  },
  {
   "cell_type": "code",
   "execution_count": null,
   "id": "77a5fbe3-7365-4b09-b5d0-7014226f79bb",
   "metadata": {},
   "outputs": [],
   "source": []
  },
  {
   "cell_type": "code",
   "execution_count": null,
   "id": "ffc6d0aa-3ce2-4b4b-a655-b90083e85e25",
   "metadata": {},
   "outputs": [],
   "source": []
  },
  {
   "cell_type": "code",
   "execution_count": null,
   "id": "cac02e5f-bbff-49ef-9ff9-dd24a85bd734",
   "metadata": {},
   "outputs": [],
   "source": []
  },
  {
   "cell_type": "code",
   "execution_count": null,
   "id": "7041847a-9ce8-454c-ab34-bca36d8a1e6a",
   "metadata": {},
   "outputs": [],
   "source": []
  },
  {
   "cell_type": "code",
   "execution_count": null,
   "id": "cb3f63ff-7f89-4b95-83a8-3961495481db",
   "metadata": {},
   "outputs": [],
   "source": []
  },
  {
   "cell_type": "code",
   "execution_count": null,
   "id": "c935fa5f-dcec-49fe-a438-73bf42314869",
   "metadata": {},
   "outputs": [],
   "source": []
  },
  {
   "cell_type": "code",
   "execution_count": null,
   "id": "1746620f-2996-4919-b5a4-186acaa63051",
   "metadata": {},
   "outputs": [],
   "source": []
  },
  {
   "cell_type": "code",
   "execution_count": null,
   "id": "fff555f9-8af0-4b3a-90fa-fd74d02c8bc7",
   "metadata": {},
   "outputs": [],
   "source": []
  },
  {
   "cell_type": "code",
   "execution_count": null,
   "id": "3498b1bc-08ec-40bf-9c80-3bcdc5b75ed1",
   "metadata": {},
   "outputs": [],
   "source": []
  },
  {
   "cell_type": "code",
   "execution_count": null,
   "id": "c81c6760-9b79-44e0-9a00-8e08e2ddc131",
   "metadata": {},
   "outputs": [],
   "source": []
  },
  {
   "cell_type": "code",
   "execution_count": null,
   "id": "e1db221f-fa61-4172-8a7f-06220e4339d4",
   "metadata": {},
   "outputs": [],
   "source": []
  }
 ],
 "metadata": {
  "kernelspec": {
   "display_name": "Python 3 (ipykernel)",
   "language": "python",
   "name": "python3"
  },
  "language_info": {
   "codemirror_mode": {
    "name": "ipython",
    "version": 3
   },
   "file_extension": ".py",
   "mimetype": "text/x-python",
   "name": "python",
   "nbconvert_exporter": "python",
   "pygments_lexer": "ipython3",
   "version": "3.10.12"
  }
 },
 "nbformat": 4,
 "nbformat_minor": 5
}
